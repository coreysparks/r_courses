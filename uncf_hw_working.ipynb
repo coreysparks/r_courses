{
 "cells": [
  {
   "cell_type": "markdown",
   "id": "3f6e61b3",
   "metadata": {},
   "source": [
    "# R Homework Example 1"
   ]
  },
  {
   "cell_type": "markdown",
   "id": "3433004c",
   "metadata": {},
   "source": [
    "In this example, you will first read in the American Community Survey Public-Use Microdata to examine income distributions among workers with a Ph.D. degree. This example uses a survey data source similar to what you will use in the ADRF.\n",
    "\n",
    "**<span style = \"color:green\">If you have not yet watched the \"Introduction to Jupyter Notebooks\" video, watch it before you proceed!</span>**\n",
    "\n",
    "**NOTE: When you open a notebook, make sure you run each cell containing code from the beginning. Since the code we're writing builds on everything written before, if you don't make sure to run everything from the beginning, some things may not work.**\n",
    "\n",
    "**Note, if you're running this on your personal computer, you will need to install packages beforehand, but if you're on the ADRF, the packages are installed already**\n",
    "\n",
    "_install.packages(c(\"tidyverse\", \"car\"))_"
   ]
  },
  {
   "cell_type": "code",
   "execution_count": 1,
   "id": "168337fb",
   "metadata": {},
   "outputs": [
    {
     "name": "stderr",
     "output_type": "stream",
     "text": [
      "-- \u001b[1mAttaching packages\u001b[22m ------------------------------------------------------------------------------- tidyverse 1.3.1 --\n",
      "\n",
      "\u001b[32mv\u001b[39m \u001b[34mggplot2\u001b[39m 3.3.5     \u001b[32mv\u001b[39m \u001b[34mpurrr  \u001b[39m 0.3.4\n",
      "\u001b[32mv\u001b[39m \u001b[34mtibble \u001b[39m 3.1.6     \u001b[32mv\u001b[39m \u001b[34mdplyr  \u001b[39m 1.0.7\n",
      "\u001b[32mv\u001b[39m \u001b[34mtidyr  \u001b[39m 1.1.4     \u001b[32mv\u001b[39m \u001b[34mstringr\u001b[39m 1.4.0\n",
      "\u001b[32mv\u001b[39m \u001b[34mreadr  \u001b[39m 2.1.1     \u001b[32mv\u001b[39m \u001b[34mforcats\u001b[39m 0.5.1\n",
      "\n",
      "-- \u001b[1mConflicts\u001b[22m ---------------------------------------------------------------------------------- tidyverse_conflicts() --\n",
      "\u001b[31mx\u001b[39m \u001b[34mdplyr\u001b[39m::\u001b[32mfilter()\u001b[39m masks \u001b[34mstats\u001b[39m::filter()\n",
      "\u001b[31mx\u001b[39m \u001b[34mdplyr\u001b[39m::\u001b[32mlag()\u001b[39m    masks \u001b[34mstats\u001b[39m::lag()\n",
      "\n",
      "Loading required package: carData\n",
      "\n",
      "\n",
      "Attaching package: 'car'\n",
      "\n",
      "\n",
      "The following object is masked from 'package:dplyr':\n",
      "\n",
      "    recode\n",
      "\n",
      "\n",
      "The following object is masked from 'package:purrr':\n",
      "\n",
      "    some\n",
      "\n",
      "\n"
     ]
    }
   ],
   "source": [
    "library(tidyverse)\n",
    "library(car)"
   ]
  },
  {
   "cell_type": "markdown",
   "id": "da2ec432",
   "metadata": {},
   "source": [
    "### Read in Census American Community Survey Microdata"
   ]
  },
  {
   "cell_type": "markdown",
   "id": "262dff1d",
   "metadata": {},
   "source": [
    "In this workbook, we will be using 2019 American Community Survey Public Use Microdata (PUMS). \n",
    "These are public-use data sets containing information about responses to the Census Bureau American Community Survey. Information about the ACS project can be found at [https://www.census.gov/programs-surveys/acs](https://www.census.gov/programs-surveys/acs). \n",
    "\n",
    "We will be using the ACS PUMS dataset for Texas and California in our examples in this workbook.\n",
    "\n",
    "You can find more information about the ACS datasets [here](https://www.census.gov/programs-surveys/acs/microdata/access.2019.html) and the Codebook for the data [here](https://raw.githubusercontent.com/coreysparks/data/master/pums_vars.csv).\n"
   ]
  },
  {
   "cell_type": "code",
   "execution_count": 2,
   "id": "4d9b10ec",
   "metadata": {},
   "outputs": [],
   "source": [
    "census <- read_csv(url(\"https://github.com/coreysparks/r_courses/blob/master/data/pums_tx_ca_2019.csv?raw=true\"), show_col_types = F)"
   ]
  },
  {
   "cell_type": "code",
   "execution_count": 3,
   "id": "0cea3729",
   "metadata": {},
   "outputs": [
    {
     "data": {
      "text/html": [
       "<table class=\"dataframe\">\n",
       "<caption>A tibble: 6 × 22</caption>\n",
       "<thead>\n",
       "\t<tr><th scope=col>SERIALNO</th><th scope=col>SPORDER</th><th scope=col>WGTP</th><th scope=col>PWGTP</th><th scope=col>WAGP</th><th scope=col>AGEP</th><th scope=col>ST</th><th scope=col>SCHL</th><th scope=col>SEX</th><th scope=col>ESR</th><th scope=col>...</th><th scope=col>OCCP</th><th scope=col>RAC1P</th><th scope=col>ST_label</th><th scope=col>SCHL_label</th><th scope=col>SEX_label</th><th scope=col>ESR_label</th><th scope=col>FOD1P_label</th><th scope=col>HISP_label</th><th scope=col>OCCP_label</th><th scope=col>RAC1P_label</th></tr>\n",
       "\t<tr><th scope=col>&lt;chr&gt;</th><th scope=col>&lt;dbl&gt;</th><th scope=col>&lt;dbl&gt;</th><th scope=col>&lt;dbl&gt;</th><th scope=col>&lt;dbl&gt;</th><th scope=col>&lt;dbl&gt;</th><th scope=col>&lt;chr&gt;</th><th scope=col>&lt;chr&gt;</th><th scope=col>&lt;dbl&gt;</th><th scope=col>&lt;dbl&gt;</th><th scope=col>...</th><th scope=col>&lt;chr&gt;</th><th scope=col>&lt;dbl&gt;</th><th scope=col>&lt;chr&gt;</th><th scope=col>&lt;chr&gt;</th><th scope=col>&lt;chr&gt;</th><th scope=col>&lt;chr&gt;</th><th scope=col>&lt;chr&gt;</th><th scope=col>&lt;chr&gt;</th><th scope=col>&lt;chr&gt;</th><th scope=col>&lt;chr&gt;</th></tr>\n",
       "</thead>\n",
       "<tbody>\n",
       "\t<tr><td>2019GQ0000004</td><td>1</td><td>0</td><td>67</td><td>   0</td><td>25</td><td>48</td><td>12</td><td>1</td><td>6</td><td>...</td><td>0009</td><td>1</td><td>Texas/TX     </td><td>Grade 9                                     </td><td>Male  </td><td>Not in labor force        </td><td>NA</td><td>Mexican                    </td><td>NA                                        </td><td>White alone          </td></tr>\n",
       "\t<tr><td>2019GQ0000013</td><td>1</td><td>0</td><td>28</td><td>6000</td><td>18</td><td>06</td><td>16</td><td>2</td><td>6</td><td>...</td><td>4110</td><td>1</td><td>California/CA</td><td>Regular high school diploma                 </td><td>Female</td><td>Not in labor force        </td><td>NA</td><td>Not Spanish/Hispanic/Latino</td><td>EAT-Waiters And Waitresses                </td><td>White alone          </td></tr>\n",
       "\t<tr><td>2019GQ0000043</td><td>1</td><td>0</td><td>43</td><td>7200</td><td>19</td><td>48</td><td>19</td><td>1</td><td>1</td><td>...</td><td>4251</td><td>1</td><td>Texas/TX     </td><td>1 or more years of college credit, no degree</td><td>Male  </td><td>Civilian employed, at work</td><td>NA</td><td>Not Spanish/Hispanic/Latino</td><td>CLN-Landscaping And Groundskeeping Workers</td><td>White alone          </td></tr>\n",
       "\t<tr><td>2019GQ0000055</td><td>1</td><td>0</td><td> 4</td><td>9800</td><td>21</td><td>06</td><td>19</td><td>1</td><td>1</td><td>...</td><td>6120</td><td>8</td><td>California/CA</td><td>1 or more years of college credit, no degree</td><td>Male  </td><td>Civilian employed, at work</td><td>NA</td><td>Mexican                    </td><td>FFF-Forest And Conservation Workers       </td><td>Some Other Race alone</td></tr>\n",
       "\t<tr><td>2019GQ0000064</td><td>1</td><td>0</td><td>81</td><td>   0</td><td>54</td><td>06</td><td>16</td><td>2</td><td>6</td><td>...</td><td>0009</td><td>1</td><td>California/CA</td><td>Regular high school diploma                 </td><td>Female</td><td>Not in labor force        </td><td>NA</td><td>Not Spanish/Hispanic/Latino</td><td>NA                                        </td><td>White alone          </td></tr>\n",
       "\t<tr><td>2019GQ0000115</td><td>1</td><td>0</td><td>19</td><td>   0</td><td>55</td><td>48</td><td>16</td><td>1</td><td>6</td><td>...</td><td>3655</td><td>8</td><td>Texas/TX     </td><td>Regular high school diploma                 </td><td>Male  </td><td>Not in labor force        </td><td>NA</td><td>Mexican                    </td><td>HLS-Other Healthcare Support Workers      </td><td>Some Other Race alone</td></tr>\n",
       "</tbody>\n",
       "</table>\n"
      ],
      "text/latex": [
       "A tibble: 6 × 22\n",
       "\\begin{tabular}{lllllllllllllllllllll}\n",
       " SERIALNO & SPORDER & WGTP & PWGTP & WAGP & AGEP & ST & SCHL & SEX & ESR & ... & OCCP & RAC1P & ST\\_label & SCHL\\_label & SEX\\_label & ESR\\_label & FOD1P\\_label & HISP\\_label & OCCP\\_label & RAC1P\\_label\\\\\n",
       " <chr> & <dbl> & <dbl> & <dbl> & <dbl> & <dbl> & <chr> & <chr> & <dbl> & <dbl> & ... & <chr> & <dbl> & <chr> & <chr> & <chr> & <chr> & <chr> & <chr> & <chr> & <chr>\\\\\n",
       "\\hline\n",
       "\t 2019GQ0000004 & 1 & 0 & 67 &    0 & 25 & 48 & 12 & 1 & 6 & ... & 0009 & 1 & Texas/TX      & Grade 9                                      & Male   & Not in labor force         & NA & Mexican                     & NA                                         & White alone          \\\\\n",
       "\t 2019GQ0000013 & 1 & 0 & 28 & 6000 & 18 & 06 & 16 & 2 & 6 & ... & 4110 & 1 & California/CA & Regular high school diploma                  & Female & Not in labor force         & NA & Not Spanish/Hispanic/Latino & EAT-Waiters And Waitresses                 & White alone          \\\\\n",
       "\t 2019GQ0000043 & 1 & 0 & 43 & 7200 & 19 & 48 & 19 & 1 & 1 & ... & 4251 & 1 & Texas/TX      & 1 or more years of college credit, no degree & Male   & Civilian employed, at work & NA & Not Spanish/Hispanic/Latino & CLN-Landscaping And Groundskeeping Workers & White alone          \\\\\n",
       "\t 2019GQ0000055 & 1 & 0 &  4 & 9800 & 21 & 06 & 19 & 1 & 1 & ... & 6120 & 8 & California/CA & 1 or more years of college credit, no degree & Male   & Civilian employed, at work & NA & Mexican                     & FFF-Forest And Conservation Workers        & Some Other Race alone\\\\\n",
       "\t 2019GQ0000064 & 1 & 0 & 81 &    0 & 54 & 06 & 16 & 2 & 6 & ... & 0009 & 1 & California/CA & Regular high school diploma                  & Female & Not in labor force         & NA & Not Spanish/Hispanic/Latino & NA                                         & White alone          \\\\\n",
       "\t 2019GQ0000115 & 1 & 0 & 19 &    0 & 55 & 48 & 16 & 1 & 6 & ... & 3655 & 8 & Texas/TX      & Regular high school diploma                  & Male   & Not in labor force         & NA & Mexican                     & HLS-Other Healthcare Support Workers       & Some Other Race alone\\\\\n",
       "\\end{tabular}\n"
      ],
      "text/markdown": [
       "\n",
       "A tibble: 6 × 22\n",
       "\n",
       "| SERIALNO &lt;chr&gt; | SPORDER &lt;dbl&gt; | WGTP &lt;dbl&gt; | PWGTP &lt;dbl&gt; | WAGP &lt;dbl&gt; | AGEP &lt;dbl&gt; | ST &lt;chr&gt; | SCHL &lt;chr&gt; | SEX &lt;dbl&gt; | ESR &lt;dbl&gt; | ... ... | OCCP &lt;chr&gt; | RAC1P &lt;dbl&gt; | ST_label &lt;chr&gt; | SCHL_label &lt;chr&gt; | SEX_label &lt;chr&gt; | ESR_label &lt;chr&gt; | FOD1P_label &lt;chr&gt; | HISP_label &lt;chr&gt; | OCCP_label &lt;chr&gt; | RAC1P_label &lt;chr&gt; |\n",
       "|---|---|---|---|---|---|---|---|---|---|---|---|---|---|---|---|---|---|---|---|---|\n",
       "| 2019GQ0000004 | 1 | 0 | 67 |    0 | 25 | 48 | 12 | 1 | 6 | ... | 0009 | 1 | Texas/TX      | Grade 9                                      | Male   | Not in labor force         | NA | Mexican                     | NA                                         | White alone           |\n",
       "| 2019GQ0000013 | 1 | 0 | 28 | 6000 | 18 | 06 | 16 | 2 | 6 | ... | 4110 | 1 | California/CA | Regular high school diploma                  | Female | Not in labor force         | NA | Not Spanish/Hispanic/Latino | EAT-Waiters And Waitresses                 | White alone           |\n",
       "| 2019GQ0000043 | 1 | 0 | 43 | 7200 | 19 | 48 | 19 | 1 | 1 | ... | 4251 | 1 | Texas/TX      | 1 or more years of college credit, no degree | Male   | Civilian employed, at work | NA | Not Spanish/Hispanic/Latino | CLN-Landscaping And Groundskeeping Workers | White alone           |\n",
       "| 2019GQ0000055 | 1 | 0 |  4 | 9800 | 21 | 06 | 19 | 1 | 1 | ... | 6120 | 8 | California/CA | 1 or more years of college credit, no degree | Male   | Civilian employed, at work | NA | Mexican                     | FFF-Forest And Conservation Workers        | Some Other Race alone |\n",
       "| 2019GQ0000064 | 1 | 0 | 81 |    0 | 54 | 06 | 16 | 2 | 6 | ... | 0009 | 1 | California/CA | Regular high school diploma                  | Female | Not in labor force         | NA | Not Spanish/Hispanic/Latino | NA                                         | White alone           |\n",
       "| 2019GQ0000115 | 1 | 0 | 19 |    0 | 55 | 48 | 16 | 1 | 6 | ... | 3655 | 8 | Texas/TX      | Regular high school diploma                  | Male   | Not in labor force         | NA | Mexican                     | HLS-Other Healthcare Support Workers       | Some Other Race alone |\n",
       "\n"
      ],
      "text/plain": [
       "  SERIALNO      SPORDER WGTP PWGTP WAGP AGEP ST SCHL SEX ESR ... OCCP RAC1P\n",
       "1 2019GQ0000004 1       0    67       0 25   48 12   1   6   ... 0009 1    \n",
       "2 2019GQ0000013 1       0    28    6000 18   06 16   2   6   ... 4110 1    \n",
       "3 2019GQ0000043 1       0    43    7200 19   48 19   1   1   ... 4251 1    \n",
       "4 2019GQ0000055 1       0     4    9800 21   06 19   1   1   ... 6120 8    \n",
       "5 2019GQ0000064 1       0    81       0 54   06 16   2   6   ... 0009 1    \n",
       "6 2019GQ0000115 1       0    19       0 55   48 16   1   6   ... 3655 8    \n",
       "  ST_label      SCHL_label                                   SEX_label\n",
       "1 Texas/TX      Grade 9                                      Male     \n",
       "2 California/CA Regular high school diploma                  Female   \n",
       "3 Texas/TX      1 or more years of college credit, no degree Male     \n",
       "4 California/CA 1 or more years of college credit, no degree Male     \n",
       "5 California/CA Regular high school diploma                  Female   \n",
       "6 Texas/TX      Regular high school diploma                  Male     \n",
       "  ESR_label                  FOD1P_label HISP_label                 \n",
       "1 Not in labor force         NA          Mexican                    \n",
       "2 Not in labor force         NA          Not Spanish/Hispanic/Latino\n",
       "3 Civilian employed, at work NA          Not Spanish/Hispanic/Latino\n",
       "4 Civilian employed, at work NA          Mexican                    \n",
       "5 Not in labor force         NA          Not Spanish/Hispanic/Latino\n",
       "6 Not in labor force         NA          Mexican                    \n",
       "  OCCP_label                                 RAC1P_label          \n",
       "1 NA                                         White alone          \n",
       "2 EAT-Waiters And Waitresses                 White alone          \n",
       "3 CLN-Landscaping And Groundskeeping Workers White alone          \n",
       "4 FFF-Forest And Conservation Workers        Some Other Race alone\n",
       "5 NA                                         White alone          \n",
       "6 HLS-Other Healthcare Support Workers       Some Other Race alone"
      ]
     },
     "metadata": {},
     "output_type": "display_data"
    }
   ],
   "source": [
    "head(census)"
   ]
  },
  {
   "cell_type": "markdown",
   "id": "994a6a8a",
   "metadata": {},
   "source": [
    "## Variables we will use in this example\n",
    "In this example and homework we will work with a few of the variables in this data. \n",
    "\n",
    "#### WAGP = Annual Wages\n",
    "#### SEX = Respondent's self idenfied sex\n",
    "#### SCHL = Respondent's self idenfied educational attainment\n",
    "#### ESR = Respondent's self idenfied employment status\n",
    "#### HISP = Respondent's self idenfied Hispanic ethnicity\n",
    "#### RAC1P = Respondent's self idenfied race\n",
    "#### ST = Respondent's state of residence\n",
    "\n",
    "Specific codes and response options can be found in the codebook"
   ]
  },
  {
   "cell_type": "markdown",
   "id": "7a33747d",
   "metadata": {},
   "source": [
    "# Basic visualization using ggplot and dplyr"
   ]
  },
  {
   "cell_type": "markdown",
   "id": "737ac405",
   "metadata": {},
   "source": [
    "The R packages dplyr and ggplot work very well together, with dplyr being used to process and summarize data and ggplot being used to visualize the summaries.\n",
    "\n",
    "### Recoding variables\n",
    "One common task that we have to do when using microdata, like we have in the ADRF, is to recode variables. There many ways to do this, I like the `car` package as its syntax is very approachable, but you could easily do this using `ifelse` or `dplyr::case_when` within a `mutate()` step. Here, I show how to use the `car::Recode()` function within a `mutate` step. I also insert comments using the # key to show what is being done in each step.\n",
    "\n",
    "**NOTE** `!=` stands for *not equal*, and `==` is R's way of saying *exactly equivalent*"
   ]
  },
  {
   "cell_type": "code",
   "execution_count": 4,
   "id": "b904f156",
   "metadata": {},
   "outputs": [
    {
     "data": {
      "text/html": [
       "<table class=\"dataframe\">\n",
       "<caption>A tibble: 6 × 2</caption>\n",
       "<thead>\n",
       "\t<tr><th scope=col>sex2</th><th scope=col>WAGP</th></tr>\n",
       "\t<tr><th scope=col>&lt;chr&gt;</th><th scope=col>&lt;dbl&gt;</th></tr>\n",
       "</thead>\n",
       "<tbody>\n",
       "\t<tr><td>Male  </td><td> 90000</td></tr>\n",
       "\t<tr><td>Male  </td><td> 25000</td></tr>\n",
       "\t<tr><td>Male  </td><td> 90000</td></tr>\n",
       "\t<tr><td>Male  </td><td> 68000</td></tr>\n",
       "\t<tr><td>Female</td><td>120000</td></tr>\n",
       "\t<tr><td>Male  </td><td>118000</td></tr>\n",
       "</tbody>\n",
       "</table>\n"
      ],
      "text/latex": [
       "A tibble: 6 × 2\n",
       "\\begin{tabular}{ll}\n",
       " sex2 & WAGP\\\\\n",
       " <chr> & <dbl>\\\\\n",
       "\\hline\n",
       "\t Male   &  90000\\\\\n",
       "\t Male   &  25000\\\\\n",
       "\t Male   &  90000\\\\\n",
       "\t Male   &  68000\\\\\n",
       "\t Female & 120000\\\\\n",
       "\t Male   & 118000\\\\\n",
       "\\end{tabular}\n"
      ],
      "text/markdown": [
       "\n",
       "A tibble: 6 × 2\n",
       "\n",
       "| sex2 &lt;chr&gt; | WAGP &lt;dbl&gt; |\n",
       "|---|---|\n",
       "| Male   |  90000 |\n",
       "| Male   |  25000 |\n",
       "| Male   |  90000 |\n",
       "| Male   |  68000 |\n",
       "| Female | 120000 |\n",
       "| Male   | 118000 |\n",
       "\n"
      ],
      "text/plain": [
       "  sex2   WAGP  \n",
       "1 Male    90000\n",
       "2 Male    25000\n",
       "3 Male    90000\n",
       "4 Male    68000\n",
       "5 Female 120000\n",
       "6 Male   118000"
      ]
     },
     "metadata": {},
     "output_type": "display_data"
    }
   ],
   "source": [
    "library(car)\n",
    "census_sub <- census %>%\n",
    "    filter(ESR %in% c(1,2),  #select people who are employed\n",
    "          WAGP !=0 & is.na(WAGP)!=T, #select people with recorded wages\n",
    "          SCHL == 24)%>% # select only doctoral recipients\n",
    "    mutate(sex2 = Recode (SEX, recodes = \"1='Male'; 2='Female' \"), \n",
    "              as.factor=TRUE) #create new sex variable with labels instead of numbers\n",
    "\n",
    "census_sub%>%\n",
    "    select(sex2, WAGP)%>%\n",
    "    head()"
   ]
  },
  {
   "cell_type": "markdown",
   "id": "d87b6602",
   "metadata": {},
   "source": [
    "Now we can summarize the wage variable by sex, here we calculate the median wage for men and women.  You could use the `mean()` function to calculate averages instead."
   ]
  },
  {
   "cell_type": "code",
   "execution_count": 5,
   "id": "e2587e83",
   "metadata": {},
   "outputs": [
    {
     "data": {
      "text/html": [
       "<table class=\"dataframe\">\n",
       "<caption>A tibble: 2 × 2</caption>\n",
       "<thead>\n",
       "\t<tr><th scope=col>sex2</th><th scope=col>median_inc</th></tr>\n",
       "\t<tr><th scope=col>&lt;chr&gt;</th><th scope=col>&lt;dbl&gt;</th></tr>\n",
       "</thead>\n",
       "<tbody>\n",
       "\t<tr><td>Female</td><td> 90500</td></tr>\n",
       "\t<tr><td>Male  </td><td>120000</td></tr>\n",
       "</tbody>\n",
       "</table>\n"
      ],
      "text/latex": [
       "A tibble: 2 × 2\n",
       "\\begin{tabular}{ll}\n",
       " sex2 & median\\_inc\\\\\n",
       " <chr> & <dbl>\\\\\n",
       "\\hline\n",
       "\t Female &  90500\\\\\n",
       "\t Male   & 120000\\\\\n",
       "\\end{tabular}\n"
      ],
      "text/markdown": [
       "\n",
       "A tibble: 2 × 2\n",
       "\n",
       "| sex2 &lt;chr&gt; | median_inc &lt;dbl&gt; |\n",
       "|---|---|\n",
       "| Female |  90500 |\n",
       "| Male   | 120000 |\n",
       "\n"
      ],
      "text/plain": [
       "  sex2   median_inc\n",
       "1 Female  90500    \n",
       "2 Male   120000    "
      ]
     },
     "metadata": {},
     "output_type": "display_data"
    }
   ],
   "source": [
    "census_sub%>%\n",
    "    group_by(sex2)%>% #group_by splits the data into groups based on the variable(s) shown, you can specify more than one\n",
    "    summarize(median_inc = median(WAGP, na.rm=TRUE)) #na.rm removes missing values before calculation"
   ]
  },
  {
   "cell_type": "markdown",
   "id": "206ce57e",
   "metadata": {},
   "source": [
    "Likewise, we can put this summary directly into a ggplot"
   ]
  },
  {
   "cell_type": "code",
   "execution_count": 6,
   "id": "767b788c",
   "metadata": {},
   "outputs": [
    {
     "data": {
      "image/png": "[encoded data removed]",
      "text/plain": [
       "plot without title"
      ]
     },
     "metadata": {
      "image/png": {
       "height": 420,
       "width": 420
      }
     },
     "output_type": "display_data"
    }
   ],
   "source": [
    "library(ggplot2)\n",
    "census_sub%>%\n",
    "    group_by(sex2)%>%\n",
    "    summarize(median_inc = median(WAGP, na.rm=TRUE))%>%\n",
    "ggplot(mapping = aes(fill=sex2, x=sex2, y=median_inc))+\n",
    "    geom_col(position =\"dodge\")"
   ]
  },
  {
   "cell_type": "markdown",
   "id": "75804ff1",
   "metadata": {},
   "source": [
    "### Histograms by group"
   ]
  },
  {
   "cell_type": "code",
   "execution_count": 7,
   "id": "0f03169d",
   "metadata": {},
   "outputs": [
    {
     "data": {
      "image/png": "[encoded data removed]",
      "text/plain": [
       "plot without title"
      ]
     },
     "metadata": {
      "image/png": {
       "height": 420,
       "width": 420
      }
     },
     "output_type": "display_data"
    }
   ],
   "source": [
    "census_sub%>%\n",
    "    ggplot(mapping = aes(fill=sex2, group=sex2, x=WAGP))+\n",
    "    geom_histogram(position=\"dodge\", bins=20) #position=\"dodge\" plots the lines next to each other"
   ]
  },
  {
   "cell_type": "markdown",
   "id": "c737210a",
   "metadata": {},
   "source": [
    "Which is pretty ugly, the density plot may look better"
   ]
  },
  {
   "cell_type": "code",
   "execution_count": 8,
   "id": "785f7ae2",
   "metadata": {},
   "outputs": [
    {
     "data": {
      "image/png": "[encoded data removed]",
      "text/plain": [
       "plot without title"
      ]
     },
     "metadata": {
      "image/png": {
       "height": 420,
       "width": 420
      }
     },
     "output_type": "display_data"
    }
   ],
   "source": [
    "census_sub%>%\n",
    "    ggplot(mapping = aes(fill=sex2, group=sex2, x=WAGP))+\n",
    "    geom_density(alpha=.5) #alpha = .5 makes the plots semi-transparent"
   ]
  },
  {
   "cell_type": "markdown",
   "id": "bacd2d70",
   "metadata": {},
   "source": [
    "### Box and whisker plots"
   ]
  },
  {
   "cell_type": "code",
   "execution_count": 9,
   "id": "b093d38a",
   "metadata": {},
   "outputs": [
    {
     "data": {
      "image/png": "[encoded data removed]",
      "text/plain": [
       "plot without title"
      ]
     },
     "metadata": {
      "image/png": {
       "height": 420,
       "width": 420
      }
     },
     "output_type": "display_data"
    }
   ],
   "source": [
    "census_sub%>%\n",
    "    ggplot(mapping = aes(fill=sex2, group=sex2, x=WAGP))+\n",
    "    geom_boxplot(alpha=.5)"
   ]
  },
  {
   "cell_type": "markdown",
   "id": "7ac47040",
   "metadata": {},
   "source": [
    "### Create a race-ethnicity recoded variable.\n",
    "The Census asks separate questions about race and Hispanic/Latino ethincity, so if you want to combine them you have to use two variables, the race variable **RAC1P** and the Hispanic origin varialbe **HISP**. Below is *one way* to do this, where if a person responds as any Hispanic origin, we code them as Hispanic, and combine this with the race variable.\n",
    "\n",
    "In the ADRF you may need to recode one or more survey variables in order to appropriately represent some of the data. "
   ]
  },
  {
   "cell_type": "code",
   "execution_count": 10,
   "id": "fc4ff42d",
   "metadata": {},
   "outputs": [],
   "source": [
    "census_sub<-census_sub%>%\n",
    "        # First code Hispanic ethnicty and recode RAC1P into fewer groups\n",
    "    mutate(hisp = Recode(as.numeric(HISP),\n",
    "                         recodes = \" 2:24='Hispanic'; 1='NonHispanic'\",\n",
    "                         as.factor=T), \n",
    "           race_recode = Recode(RAC1P,\n",
    "                                recodes = \"1='White'; 2='Black'; 3='Other'; 4:6='Asian'; 7:9='Other'\",\n",
    "                                as.factor=T))%>%\n",
    "        # Combine these two using paste()\n",
    "    mutate(race_eth = paste(hisp, race_recode, sep = \"_\"))%>%\n",
    "        #use substr() to see if the first 8 characters of the value == Hispanic\n",
    "    mutate(race_eth  = as.factor(ifelse(substr(as.character(race_eth),1,8) == \"Hispanic\",\n",
    "                                        yes = \"Hispanic\",\n",
    "                                        no = as.character(race_eth))))%>%\n",
    "        #Relevel the factor with nonHispanic whites as the reference level\n",
    "    mutate(race_eth = relevel(race_eth, ref = \"NonHispanic_White\"))"
   ]
  },
  {
   "cell_type": "markdown",
   "id": "1990abad",
   "metadata": {},
   "source": [
    "Now we can use this variable to do comparisons.\n",
    "\n",
    "Also shown in this code chunk is how to get the number of observations used to calculate the median in this case. This is important, and in the ADRF you will need to ensure your sample size follows certain minimums in your calculations and output.\n",
    "\n",
    "This first example uses the original **RAC1P** variable"
   ]
  },
  {
   "cell_type": "code",
   "execution_count": 11,
   "id": "72f6b210",
   "metadata": {},
   "outputs": [
    {
     "data": {
      "text/html": [
       "<table class=\"dataframe\">\n",
       "<caption>A tibble: 8 × 3</caption>\n",
       "<thead>\n",
       "\t<tr><th scope=col>RAC1P</th><th scope=col>median_inc</th><th scope=col>n_obs</th></tr>\n",
       "\t<tr><th scope=col>&lt;dbl&gt;</th><th scope=col>&lt;dbl&gt;</th><th scope=col>&lt;int&gt;</th></tr>\n",
       "</thead>\n",
       "<tbody>\n",
       "\t<tr><td>1</td><td>100000</td><td>3114</td></tr>\n",
       "\t<tr><td>2</td><td> 84000</td><td> 208</td></tr>\n",
       "\t<tr><td>3</td><td> 58500</td><td>   4</td></tr>\n",
       "\t<tr><td>5</td><td> 52050</td><td>   2</td></tr>\n",
       "\t<tr><td>6</td><td>120000</td><td>1579</td></tr>\n",
       "\t<tr><td>7</td><td> 75000</td><td>   3</td></tr>\n",
       "\t<tr><td>8</td><td> 90000</td><td>  93</td></tr>\n",
       "\t<tr><td>9</td><td> 98500</td><td> 134</td></tr>\n",
       "</tbody>\n",
       "</table>\n"
      ],
      "text/latex": [
       "A tibble: 8 × 3\n",
       "\\begin{tabular}{lll}\n",
       " RAC1P & median\\_inc & n\\_obs\\\\\n",
       " <dbl> & <dbl> & <int>\\\\\n",
       "\\hline\n",
       "\t 1 & 100000 & 3114\\\\\n",
       "\t 2 &  84000 &  208\\\\\n",
       "\t 3 &  58500 &    4\\\\\n",
       "\t 5 &  52050 &    2\\\\\n",
       "\t 6 & 120000 & 1579\\\\\n",
       "\t 7 &  75000 &    3\\\\\n",
       "\t 8 &  90000 &   93\\\\\n",
       "\t 9 &  98500 &  134\\\\\n",
       "\\end{tabular}\n"
      ],
      "text/markdown": [
       "\n",
       "A tibble: 8 × 3\n",
       "\n",
       "| RAC1P &lt;dbl&gt; | median_inc &lt;dbl&gt; | n_obs &lt;int&gt; |\n",
       "|---|---|---|\n",
       "| 1 | 100000 | 3114 |\n",
       "| 2 |  84000 |  208 |\n",
       "| 3 |  58500 |    4 |\n",
       "| 5 |  52050 |    2 |\n",
       "| 6 | 120000 | 1579 |\n",
       "| 7 |  75000 |    3 |\n",
       "| 8 |  90000 |   93 |\n",
       "| 9 |  98500 |  134 |\n",
       "\n"
      ],
      "text/plain": [
       "  RAC1P median_inc n_obs\n",
       "1 1     100000     3114 \n",
       "2 2      84000      208 \n",
       "3 3      58500        4 \n",
       "4 5      52050        2 \n",
       "5 6     120000     1579 \n",
       "6 7      75000        3 \n",
       "7 8      90000       93 \n",
       "8 9      98500      134 "
      ]
     },
     "metadata": {},
     "output_type": "display_data"
    }
   ],
   "source": [
    "census_sub%>%\n",
    "    group_by(RAC1P)%>%\n",
    "    summarize(median_inc  = median(WAGP), \n",
    "             n_obs = n())"
   ]
  },
  {
   "cell_type": "markdown",
   "id": "4429c48c",
   "metadata": {},
   "source": [
    "We see that codes 3, 5, and 7 have very small numbers, and may compromise the identity of these individuals. If we use our recoded **race_eth** variable, we have combined some of these smaller groups into more statistically valid groups. "
   ]
  },
  {
   "cell_type": "code",
   "execution_count": 12,
   "id": "64fe9cb4",
   "metadata": {},
   "outputs": [
    {
     "data": {
      "text/html": [
       "<table class=\"dataframe\">\n",
       "<caption>A tibble: 5 × 3</caption>\n",
       "<thead>\n",
       "\t<tr><th scope=col>race_eth</th><th scope=col>median_inc</th><th scope=col>n_obs</th></tr>\n",
       "\t<tr><th scope=col>&lt;fct&gt;</th><th scope=col>&lt;dbl&gt;</th><th scope=col>&lt;int&gt;</th></tr>\n",
       "</thead>\n",
       "<tbody>\n",
       "\t<tr><td>NonHispanic_White</td><td>103000</td><td>2818</td></tr>\n",
       "\t<tr><td>Hispanic         </td><td> 90000</td><td> 413</td></tr>\n",
       "\t<tr><td>NonHispanic_Asian</td><td>120000</td><td>1577</td></tr>\n",
       "\t<tr><td>NonHispanic_Black</td><td> 84000</td><td> 206</td></tr>\n",
       "\t<tr><td>NonHispanic_Other</td><td>100000</td><td> 123</td></tr>\n",
       "</tbody>\n",
       "</table>\n"
      ],
      "text/latex": [
       "A tibble: 5 × 3\n",
       "\\begin{tabular}{lll}\n",
       " race\\_eth & median\\_inc & n\\_obs\\\\\n",
       " <fct> & <dbl> & <int>\\\\\n",
       "\\hline\n",
       "\t NonHispanic\\_White & 103000 & 2818\\\\\n",
       "\t Hispanic          &  90000 &  413\\\\\n",
       "\t NonHispanic\\_Asian & 120000 & 1577\\\\\n",
       "\t NonHispanic\\_Black &  84000 &  206\\\\\n",
       "\t NonHispanic\\_Other & 100000 &  123\\\\\n",
       "\\end{tabular}\n"
      ],
      "text/markdown": [
       "\n",
       "A tibble: 5 × 3\n",
       "\n",
       "| race_eth &lt;fct&gt; | median_inc &lt;dbl&gt; | n_obs &lt;int&gt; |\n",
       "|---|---|---|\n",
       "| NonHispanic_White | 103000 | 2818 |\n",
       "| Hispanic          |  90000 |  413 |\n",
       "| NonHispanic_Asian | 120000 | 1577 |\n",
       "| NonHispanic_Black |  84000 |  206 |\n",
       "| NonHispanic_Other | 100000 |  123 |\n",
       "\n"
      ],
      "text/plain": [
       "  race_eth          median_inc n_obs\n",
       "1 NonHispanic_White 103000     2818 \n",
       "2 Hispanic           90000      413 \n",
       "3 NonHispanic_Asian 120000     1577 \n",
       "4 NonHispanic_Black  84000      206 \n",
       "5 NonHispanic_Other 100000      123 "
      ]
     },
     "metadata": {},
     "output_type": "display_data"
    }
   ],
   "source": [
    "census_sub%>%\n",
    "    group_by(race_eth)%>%\n",
    "    summarize(median_inc  = median(WAGP), \n",
    "             n_obs = n())"
   ]
  },
  {
   "cell_type": "code",
   "execution_count": 13,
   "id": "dac18bdf",
   "metadata": {},
   "outputs": [
    {
     "ename": "ERROR",
     "evalue": "Error in parse(text = x, srcfile = src): <text>:1:5: unexpected symbol\n1: Now we\n        ^\n",
     "output_type": "error",
     "traceback": [
      "Error in parse(text = x, srcfile = src): <text>:1:5: unexpected symbol\n1: Now we\n        ^\nTraceback:\n"
     ]
    }
   ],
   "source": [
    "Now we can make a plot of these summaries"
   ]
  },
  {
   "cell_type": "code",
   "execution_count": null,
   "id": "613c32a6",
   "metadata": {},
   "outputs": [],
   "source": [
    "census_sub%>%\n",
    "   group_by(race_eth)%>%\n",
    "    summarize(median_inc  = median(WAGP))%>% \n",
    "ggplot(mapping = aes(fill=race_eth,x=race_eth, y=median_inc))+\n",
    "    geom_col()+\n",
    "    theme(axis.text.x=element_text(angle =-45)) #angle the labels"
   ]
  },
  {
   "cell_type": "markdown",
   "id": "ae356137",
   "metadata": {},
   "source": [
    "### <span style=\"color:red\">Homework Assignment</span>\n",
    "Using the above as an example, your **homework** is to create a boxplot, a density plot of the wage variable used above for the two different states to see how PhD wages differ between Texas and California, using the **ST** variable.\n",
    "\n",
    "#### Saving your output\n",
    "To save your output, after you run your code and are happy with it, in Jupyter, choose File>Download As, and HTML to create a file with your analysis in it.\n",
    "\n",
    "1) Calculate the **average wage** for both states and report it\n",
    "\n",
    "2) Make a bar chart of the **average wage** in both states\n",
    "\n",
    "3) Make a histogram of the wage distributions in both states\n",
    "\n",
    "4) Make a box and whisker plot for wage distributions in both states\n",
    "\n",
    "In general, think about what the differences are between the two states. What do you think this might represent? \n",
    "\n",
    "If you're really feelling like a challenge, you can go to the [Census FTP site](https://www2.census.gov/programs-surveys/acs/data/pums/2019/1-Year/) and download a different state's data **(note person files start with `csv_p` and household files start with `csv_h`, you want person-level files**) and re-do this analysis on a different state altogether. "
   ]
  },
  {
   "cell_type": "code",
   "execution_count": null,
   "id": "a23f01ff",
   "metadata": {},
   "outputs": [],
   "source": []
  }
 ],
 "metadata": {
  "kernelspec": {
   "display_name": "R",
   "language": "R",
   "name": "ir"
  },
  "language_info": {
   "codemirror_mode": "r",
   "file_extension": ".r",
   "mimetype": "text/x-r-source",
   "name": "R",
   "pygments_lexer": "r",
   "version": "4.1.2"
  }
 },
 "nbformat": 4,
 "nbformat_minor": 5
}
