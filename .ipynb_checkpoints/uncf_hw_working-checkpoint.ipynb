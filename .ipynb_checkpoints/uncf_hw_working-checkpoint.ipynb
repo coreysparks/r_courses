{
 "cells": [
  {
   "cell_type": "markdown",
   "id": "3f6e61b3",
   "metadata": {},
   "source": [
    "# R Homework Example 1"
   ]
  },
  {
   "cell_type": "markdown",
   "id": "3433004c",
   "metadata": {},
   "source": [
    "In this example, you will first read in the American Community Survey Public-Use Microdata\n",
    "\n",
    "**<span style = \"color:green\">If you have not yet watched the \"Introduction to Jupyter Notebooks\" video, watch it before you proceed!</span>**\n",
    "\n",
    "**NOTE: When you open a notebook, make sure you run each cell containing code from the beginning. Since the code we're writing builds on everything written before, if you don't make sure to run everything from the beginning, some things may not work.**"
   ]
  },
  {
   "cell_type": "code",
   "execution_count": 4,
   "id": "168337fb",
   "metadata": {},
   "outputs": [
    {
     "name": "stderr",
     "output_type": "stream",
     "text": [
      "-- \u001b[1mAttaching packages\u001b[22m ------------------------------------------------------------------------------- tidyverse 1.3.1 --\n",
      "\n",
      "\u001b[32mv\u001b[39m \u001b[34mggplot2\u001b[39m 3.3.5     \u001b[32mv\u001b[39m \u001b[34mpurrr  \u001b[39m 0.3.4\n",
      "\u001b[32mv\u001b[39m \u001b[34mtibble \u001b[39m 3.1.6     \u001b[32mv\u001b[39m \u001b[34mdplyr  \u001b[39m 1.0.7\n",
      "\u001b[32mv\u001b[39m \u001b[34mtidyr  \u001b[39m 1.1.4     \u001b[32mv\u001b[39m \u001b[34mstringr\u001b[39m 1.4.0\n",
      "\u001b[32mv\u001b[39m \u001b[34mreadr  \u001b[39m 2.1.1     \u001b[32mv\u001b[39m \u001b[34mforcats\u001b[39m 0.5.1\n",
      "\n",
      "-- \u001b[1mConflicts\u001b[22m ---------------------------------------------------------------------------------- tidyverse_conflicts() --\n",
      "\u001b[31mx\u001b[39m \u001b[34mdplyr\u001b[39m::\u001b[32mfilter()\u001b[39m masks \u001b[34mstats\u001b[39m::filter()\n",
      "\u001b[31mx\u001b[39m \u001b[34mdplyr\u001b[39m::\u001b[32mlag()\u001b[39m    masks \u001b[34mstats\u001b[39m::lag()\n",
      "\n"
     ]
    }
   ],
   "source": [
    "library(tidyverse)"
   ]
  },
  {
   "cell_type": "markdown",
   "id": "da2ec432",
   "metadata": {},
   "source": [
    "### Read in Census American Community Survey Microdata"
   ]
  },
  {
   "cell_type": "markdown",
   "id": "f6e122f4",
   "metadata": {},
   "source": [
    "In this workbook, we will be using 2019 American Community Survey Public Use Microdata (PUMS). \n",
    "These are public-use data sets containing information about responses to the Census Bureau American Community Survey. Information about the ACS project can be found at [https://www.census.gov/programs-surveys/acs](https://www.census.gov/programs-surveys/acs). \n",
    "\n",
    "We will be using the ACS PUMS dataset for Texas and California in our examples in this workbook.\n",
    "\n",
    "You can find more information about the ACS datasets [here](https://www.census.gov/programs-surveys/acs/microdata/access.2019.html) and the Codebook for the data [here](https://raw.githubusercontent.com/coreysparks/data/master/pums_vars.csv)."
   ]
  },
  {
   "cell_type": "code",
   "execution_count": 9,
   "id": "4d9b10ec",
   "metadata": {},
   "outputs": [
    {
     "ename": "ERROR",
     "evalue": "Error in parse(text = x, srcfile = src): <text>:1:47: unexpected ','\n1: census <- read_csv(\"data/pums_tx_ca_2019.csv\"),\n                                                  ^\n",
     "output_type": "error",
     "traceback": [
      "Error in parse(text = x, srcfile = src): <text>:1:47: unexpected ','\n1: census <- read_csv(\"data/pums_tx_ca_2019.csv\"),\n                                                  ^\nTraceback:\n"
     ]
    }
   ],
   "source": [
    "census <- read_csv(\"data/pums_tx_ca_2019.csv\"), show_col_types = F)"
   ]
  },
  {
   "cell_type": "code",
   "execution_count": 8,
   "id": "dce2f7e4",
   "metadata": {},
   "outputs": [
    {
     "data": {
      "text/html": [
       "<table class=\"dataframe\">\n",
       "<caption>A tibble: 6 × 22</caption>\n",
       "<thead>\n",
       "\t<tr><th scope=col>SERIALNO</th><th scope=col>SPORDER</th><th scope=col>WGTP</th><th scope=col>PWGTP</th><th scope=col>WAGP</th><th scope=col>AGEP</th><th scope=col>ST</th><th scope=col>SCHL</th><th scope=col>SEX</th><th scope=col>ESR</th><th scope=col>...</th><th scope=col>OCCP</th><th scope=col>RAC1P</th><th scope=col>ST_label</th><th scope=col>SCHL_label</th><th scope=col>SEX_label</th><th scope=col>ESR_label</th><th scope=col>FOD1P_label</th><th scope=col>HISP_label</th><th scope=col>OCCP_label</th><th scope=col>RAC1P_label</th></tr>\n",
       "\t<tr><th scope=col>&lt;chr&gt;</th><th scope=col>&lt;dbl&gt;</th><th scope=col>&lt;dbl&gt;</th><th scope=col>&lt;dbl&gt;</th><th scope=col>&lt;dbl&gt;</th><th scope=col>&lt;dbl&gt;</th><th scope=col>&lt;chr&gt;</th><th scope=col>&lt;chr&gt;</th><th scope=col>&lt;dbl&gt;</th><th scope=col>&lt;dbl&gt;</th><th scope=col>...</th><th scope=col>&lt;chr&gt;</th><th scope=col>&lt;dbl&gt;</th><th scope=col>&lt;chr&gt;</th><th scope=col>&lt;chr&gt;</th><th scope=col>&lt;chr&gt;</th><th scope=col>&lt;chr&gt;</th><th scope=col>&lt;chr&gt;</th><th scope=col>&lt;chr&gt;</th><th scope=col>&lt;chr&gt;</th><th scope=col>&lt;chr&gt;</th></tr>\n",
       "</thead>\n",
       "<tbody>\n",
       "\t<tr><td>2019GQ0000004</td><td>1</td><td>0</td><td>67</td><td>   0</td><td>25</td><td>48</td><td>12</td><td>1</td><td>6</td><td>...</td><td>0009</td><td>1</td><td>Texas/TX     </td><td>Grade 9                                     </td><td>Male  </td><td>Not in labor force        </td><td>NA</td><td>Mexican                    </td><td>NA                                        </td><td>White alone          </td></tr>\n",
       "\t<tr><td>2019GQ0000013</td><td>1</td><td>0</td><td>28</td><td>6000</td><td>18</td><td>06</td><td>16</td><td>2</td><td>6</td><td>...</td><td>4110</td><td>1</td><td>California/CA</td><td>Regular high school diploma                 </td><td>Female</td><td>Not in labor force        </td><td>NA</td><td>Not Spanish/Hispanic/Latino</td><td>EAT-Waiters And Waitresses                </td><td>White alone          </td></tr>\n",
       "\t<tr><td>2019GQ0000043</td><td>1</td><td>0</td><td>43</td><td>7200</td><td>19</td><td>48</td><td>19</td><td>1</td><td>1</td><td>...</td><td>4251</td><td>1</td><td>Texas/TX     </td><td>1 or more years of college credit, no degree</td><td>Male  </td><td>Civilian employed, at work</td><td>NA</td><td>Not Spanish/Hispanic/Latino</td><td>CLN-Landscaping And Groundskeeping Workers</td><td>White alone          </td></tr>\n",
       "\t<tr><td>2019GQ0000055</td><td>1</td><td>0</td><td> 4</td><td>9800</td><td>21</td><td>06</td><td>19</td><td>1</td><td>1</td><td>...</td><td>6120</td><td>8</td><td>California/CA</td><td>1 or more years of college credit, no degree</td><td>Male  </td><td>Civilian employed, at work</td><td>NA</td><td>Mexican                    </td><td>FFF-Forest And Conservation Workers       </td><td>Some Other Race alone</td></tr>\n",
       "\t<tr><td>2019GQ0000064</td><td>1</td><td>0</td><td>81</td><td>   0</td><td>54</td><td>06</td><td>16</td><td>2</td><td>6</td><td>...</td><td>0009</td><td>1</td><td>California/CA</td><td>Regular high school diploma                 </td><td>Female</td><td>Not in labor force        </td><td>NA</td><td>Not Spanish/Hispanic/Latino</td><td>NA                                        </td><td>White alone          </td></tr>\n",
       "\t<tr><td>2019GQ0000115</td><td>1</td><td>0</td><td>19</td><td>   0</td><td>55</td><td>48</td><td>16</td><td>1</td><td>6</td><td>...</td><td>3655</td><td>8</td><td>Texas/TX     </td><td>Regular high school diploma                 </td><td>Male  </td><td>Not in labor force        </td><td>NA</td><td>Mexican                    </td><td>HLS-Other Healthcare Support Workers      </td><td>Some Other Race alone</td></tr>\n",
       "</tbody>\n",
       "</table>\n"
      ],
      "text/latex": [
       "A tibble: 6 × 22\n",
       "\\begin{tabular}{lllllllllllllllllllll}\n",
       " SERIALNO & SPORDER & WGTP & PWGTP & WAGP & AGEP & ST & SCHL & SEX & ESR & ... & OCCP & RAC1P & ST\\_label & SCHL\\_label & SEX\\_label & ESR\\_label & FOD1P\\_label & HISP\\_label & OCCP\\_label & RAC1P\\_label\\\\\n",
       " <chr> & <dbl> & <dbl> & <dbl> & <dbl> & <dbl> & <chr> & <chr> & <dbl> & <dbl> & ... & <chr> & <dbl> & <chr> & <chr> & <chr> & <chr> & <chr> & <chr> & <chr> & <chr>\\\\\n",
       "\\hline\n",
       "\t 2019GQ0000004 & 1 & 0 & 67 &    0 & 25 & 48 & 12 & 1 & 6 & ... & 0009 & 1 & Texas/TX      & Grade 9                                      & Male   & Not in labor force         & NA & Mexican                     & NA                                         & White alone          \\\\\n",
       "\t 2019GQ0000013 & 1 & 0 & 28 & 6000 & 18 & 06 & 16 & 2 & 6 & ... & 4110 & 1 & California/CA & Regular high school diploma                  & Female & Not in labor force         & NA & Not Spanish/Hispanic/Latino & EAT-Waiters And Waitresses                 & White alone          \\\\\n",
       "\t 2019GQ0000043 & 1 & 0 & 43 & 7200 & 19 & 48 & 19 & 1 & 1 & ... & 4251 & 1 & Texas/TX      & 1 or more years of college credit, no degree & Male   & Civilian employed, at work & NA & Not Spanish/Hispanic/Latino & CLN-Landscaping And Groundskeeping Workers & White alone          \\\\\n",
       "\t 2019GQ0000055 & 1 & 0 &  4 & 9800 & 21 & 06 & 19 & 1 & 1 & ... & 6120 & 8 & California/CA & 1 or more years of college credit, no degree & Male   & Civilian employed, at work & NA & Mexican                     & FFF-Forest And Conservation Workers        & Some Other Race alone\\\\\n",
       "\t 2019GQ0000064 & 1 & 0 & 81 &    0 & 54 & 06 & 16 & 2 & 6 & ... & 0009 & 1 & California/CA & Regular high school diploma                  & Female & Not in labor force         & NA & Not Spanish/Hispanic/Latino & NA                                         & White alone          \\\\\n",
       "\t 2019GQ0000115 & 1 & 0 & 19 &    0 & 55 & 48 & 16 & 1 & 6 & ... & 3655 & 8 & Texas/TX      & Regular high school diploma                  & Male   & Not in labor force         & NA & Mexican                     & HLS-Other Healthcare Support Workers       & Some Other Race alone\\\\\n",
       "\\end{tabular}\n"
      ],
      "text/markdown": [
       "\n",
       "A tibble: 6 × 22\n",
       "\n",
       "| SERIALNO &lt;chr&gt; | SPORDER &lt;dbl&gt; | WGTP &lt;dbl&gt; | PWGTP &lt;dbl&gt; | WAGP &lt;dbl&gt; | AGEP &lt;dbl&gt; | ST &lt;chr&gt; | SCHL &lt;chr&gt; | SEX &lt;dbl&gt; | ESR &lt;dbl&gt; | ... ... | OCCP &lt;chr&gt; | RAC1P &lt;dbl&gt; | ST_label &lt;chr&gt; | SCHL_label &lt;chr&gt; | SEX_label &lt;chr&gt; | ESR_label &lt;chr&gt; | FOD1P_label &lt;chr&gt; | HISP_label &lt;chr&gt; | OCCP_label &lt;chr&gt; | RAC1P_label &lt;chr&gt; |\n",
       "|---|---|---|---|---|---|---|---|---|---|---|---|---|---|---|---|---|---|---|---|---|\n",
       "| 2019GQ0000004 | 1 | 0 | 67 |    0 | 25 | 48 | 12 | 1 | 6 | ... | 0009 | 1 | Texas/TX      | Grade 9                                      | Male   | Not in labor force         | NA | Mexican                     | NA                                         | White alone           |\n",
       "| 2019GQ0000013 | 1 | 0 | 28 | 6000 | 18 | 06 | 16 | 2 | 6 | ... | 4110 | 1 | California/CA | Regular high school diploma                  | Female | Not in labor force         | NA | Not Spanish/Hispanic/Latino | EAT-Waiters And Waitresses                 | White alone           |\n",
       "| 2019GQ0000043 | 1 | 0 | 43 | 7200 | 19 | 48 | 19 | 1 | 1 | ... | 4251 | 1 | Texas/TX      | 1 or more years of college credit, no degree | Male   | Civilian employed, at work | NA | Not Spanish/Hispanic/Latino | CLN-Landscaping And Groundskeeping Workers | White alone           |\n",
       "| 2019GQ0000055 | 1 | 0 |  4 | 9800 | 21 | 06 | 19 | 1 | 1 | ... | 6120 | 8 | California/CA | 1 or more years of college credit, no degree | Male   | Civilian employed, at work | NA | Mexican                     | FFF-Forest And Conservation Workers        | Some Other Race alone |\n",
       "| 2019GQ0000064 | 1 | 0 | 81 |    0 | 54 | 06 | 16 | 2 | 6 | ... | 0009 | 1 | California/CA | Regular high school diploma                  | Female | Not in labor force         | NA | Not Spanish/Hispanic/Latino | NA                                         | White alone           |\n",
       "| 2019GQ0000115 | 1 | 0 | 19 |    0 | 55 | 48 | 16 | 1 | 6 | ... | 3655 | 8 | Texas/TX      | Regular high school diploma                  | Male   | Not in labor force         | NA | Mexican                     | HLS-Other Healthcare Support Workers       | Some Other Race alone |\n",
       "\n"
      ],
      "text/plain": [
       "  SERIALNO      SPORDER WGTP PWGTP WAGP AGEP ST SCHL SEX ESR ... OCCP RAC1P\n",
       "1 2019GQ0000004 1       0    67       0 25   48 12   1   6   ... 0009 1    \n",
       "2 2019GQ0000013 1       0    28    6000 18   06 16   2   6   ... 4110 1    \n",
       "3 2019GQ0000043 1       0    43    7200 19   48 19   1   1   ... 4251 1    \n",
       "4 2019GQ0000055 1       0     4    9800 21   06 19   1   1   ... 6120 8    \n",
       "5 2019GQ0000064 1       0    81       0 54   06 16   2   6   ... 0009 1    \n",
       "6 2019GQ0000115 1       0    19       0 55   48 16   1   6   ... 3655 8    \n",
       "  ST_label      SCHL_label                                   SEX_label\n",
       "1 Texas/TX      Grade 9                                      Male     \n",
       "2 California/CA Regular high school diploma                  Female   \n",
       "3 Texas/TX      1 or more years of college credit, no degree Male     \n",
       "4 California/CA 1 or more years of college credit, no degree Male     \n",
       "5 California/CA Regular high school diploma                  Female   \n",
       "6 Texas/TX      Regular high school diploma                  Male     \n",
       "  ESR_label                  FOD1P_label HISP_label                 \n",
       "1 Not in labor force         NA          Mexican                    \n",
       "2 Not in labor force         NA          Not Spanish/Hispanic/Latino\n",
       "3 Civilian employed, at work NA          Not Spanish/Hispanic/Latino\n",
       "4 Civilian employed, at work NA          Mexican                    \n",
       "5 Not in labor force         NA          Not Spanish/Hispanic/Latino\n",
       "6 Not in labor force         NA          Mexican                    \n",
       "  OCCP_label                                 RAC1P_label          \n",
       "1 NA                                         White alone          \n",
       "2 EAT-Waiters And Waitresses                 White alone          \n",
       "3 CLN-Landscaping And Groundskeeping Workers White alone          \n",
       "4 FFF-Forest And Conservation Workers        Some Other Race alone\n",
       "5 NA                                         White alone          \n",
       "6 HLS-Other Healthcare Support Workers       Some Other Race alone"
      ]
     },
     "metadata": {},
     "output_type": "display_data"
    }
   ],
   "source": [
    "head(census)"
   ]
  },
  {
   "cell_type": "markdown",
   "id": "54c0ecba",
   "metadata": {},
   "source": [
    "# Basic visualization using ggplot and dplyr"
   ]
  },
  {
   "cell_type": "markdown",
   "id": "0050549e",
   "metadata": {},
   "source": [
    "The R packages dplyr and ggplot work very well together, with dplyr being used to process and summarize data and ggplot being used to visualize the summaries.\n"
   ]
  },
  {
   "cell_type": "code",
   "execution_count": null,
   "id": "38628e16",
   "metadata": {},
   "outputs": [],
   "source": []
  }
 ],
 "metadata": {
  "kernelspec": {
   "display_name": "R",
   "language": "R",
   "name": "ir"
  },
  "language_info": {
   "codemirror_mode": "r",
   "file_extension": ".r",
   "mimetype": "text/x-r-source",
   "name": "R",
   "pygments_lexer": "r",
   "version": "4.1.2"
  }
 },
 "nbformat": 4,
 "nbformat_minor": 5
}
